{
 "cells": [
  {
   "cell_type": "code",
   "execution_count": 2,
   "metadata": {},
   "outputs": [],
   "source": [
    "import datetime\n",
    "from threading import Thread\n",
    "from ibapi.client import EClient\n",
    "from ibapi.wrapper import EWrapper\n",
    "import time\n",
    "from ibapi.utils import iswrapper\n",
    "\n",
    "\n",
    "class SimpleClient(EWrapper, EClient):\n",
    "    ''' Serves as the client and the wrapper '''\n",
    "\n",
    "    def __init__(self, addr, port, client_id):\n",
    "        EWrapper.__init__(self)\n",
    "        EClient.__init__(self, self)\n",
    "\n",
    "# Connect to TWS\n",
    "        self.connect(addr, port, client_id)\n",
    "\n",
    "        # Launch the client thread\n",
    "        thread = Thread(target=self.run)\n",
    "        thread.start()\n",
    "\n",
    "    @iswrapper\n",
    "    def currentTime(self, cur_time):\n",
    "        t = datetime.fromtimestamp(cur_time)  # type: ignore\n",
    "        print('Current time: {t}'.format(t))\n",
    "\n",
    "    @iswrapper\n",
    "    def error(self, req_id, code, msg):\n",
    "        print('Error {}: {}'.format(code, msg))\n",
    "\n",
    "def main():\n",
    "\n",
    "    # Create the client and connect to TWS\n",
    "    client = SimpleClient('127.0.0.1', 7497, 4002)\n",
    "\n",
    "    # Request the current time\n",
    "    client.reqCurrentTime()\n",
    "\n",
    "    # Sleep while the request is processed\n",
    "    time.sleep(2)\n",
    "\n",
    "    # Disconnect from TWS\n",
    "    client.disconnect()"
   ]
  },
  {
   "cell_type": "code",
   "execution_count": null,
   "metadata": {},
   "outputs": [],
   "source": []
  }
 ],
 "metadata": {
  "kernelspec": {
   "display_name": "base",
   "language": "python",
   "name": "python3"
  },
  "language_info": {
   "codemirror_mode": {
    "name": "ipython",
    "version": 3
   },
   "file_extension": ".py",
   "mimetype": "text/x-python",
   "name": "python",
   "nbconvert_exporter": "python",
   "pygments_lexer": "ipython3",
   "version": "3.9.15"
  },
  "orig_nbformat": 4,
  "vscode": {
   "interpreter": {
    "hash": "1fc63e0a9ddafc2678caeb447f7856b2495a11c0df854a878f2e13be77c2bb0a"
   }
  }
 },
 "nbformat": 4,
 "nbformat_minor": 2
}
