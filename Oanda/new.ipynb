{
 "cells": [
  {
   "cell_type": "code",
   "execution_count": 1,
   "metadata": {},
   "outputs": [
    {
     "data": {
      "text/plain": [
       "0      2010/08/30\n",
       "1      2010/09/06\n",
       "2      2010/09/13\n",
       "3      2010/09/20\n",
       "4      2010/09/27\n",
       "          ...    \n",
       "674    2023/07/31\n",
       "675    2023/08/07\n",
       "676    2023/08/14\n",
       "677    2023/08/21\n",
       "678    2023/08/28\n",
       "Name: Trade Date, Length: 679, dtype: object"
      ]
     },
     "execution_count": 1,
     "metadata": {},
     "output_type": "execute_result"
    }
   ],
   "source": [
    "import requests, json\n",
    "import pandas as pd\n",
    "import matplotlib.pyplot as plt\n",
    "import yfinance as yf\n",
    "from datetime import date\n",
    "\n",
    "df = pd.read_csv('weekly.csv')['Trade Date']\n",
    "df"
   ]
  },
  {
   "cell_type": "code",
   "execution_count": 2,
   "metadata": {},
   "outputs": [
    {
     "data": {
      "text/plain": [
       "0     2010-08-30\n",
       "1     2010-09-06\n",
       "2     2010-09-13\n",
       "3     2010-09-20\n",
       "4     2010-09-27\n",
       "         ...    \n",
       "674   2023-07-31\n",
       "675   2023-08-07\n",
       "676   2023-08-14\n",
       "677   2023-08-21\n",
       "678   2023-08-28\n",
       "Name: Trade Date, Length: 679, dtype: datetime64[ns]"
      ]
     },
     "execution_count": 2,
     "metadata": {},
     "output_type": "execute_result"
    }
   ],
   "source": [
    "df = pd.to_datetime(df) \n",
    "df"
   ]
  },
  {
   "cell_type": "code",
   "execution_count": 6,
   "metadata": {},
   "outputs": [
    {
     "name": "stdout",
     "output_type": "stream",
     "text": [
      "{}\n"
     ]
    }
   ],
   "source": [
    "ticker = yf.Ticker('SPY')\n",
    "\n",
    "value = ticker._download_options(date(2023, 8, 15))\n",
    "print(value)"
   ]
  },
  {
   "cell_type": "code",
   "execution_count": null,
   "metadata": {},
   "outputs": [],
   "source": []
  }
 ],
 "metadata": {
  "kernelspec": {
   "display_name": "quant",
   "language": "python",
   "name": "python3"
  },
  "language_info": {
   "codemirror_mode": {
    "name": "ipython",
    "version": 3
   },
   "file_extension": ".py",
   "mimetype": "text/x-python",
   "name": "python",
   "nbconvert_exporter": "python",
   "pygments_lexer": "ipython3",
   "version": "3.10.12"
  },
  "orig_nbformat": 4
 },
 "nbformat": 4,
 "nbformat_minor": 2
}
