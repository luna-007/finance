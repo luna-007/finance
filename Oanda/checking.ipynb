{
 "cells": [
  {
   "cell_type": "code",
   "execution_count": 1,
   "metadata": {},
   "outputs": [],
   "source": [
    "import yfinance as yf\n",
    "import pandas as pd\n",
    "import time\n",
    "import numpy as np\n",
    "import matplotlib.pyplot as plt\n",
    "from datetime import date"
   ]
  },
  {
   "cell_type": "code",
   "execution_count": 14,
   "metadata": {},
   "outputs": [
    {
     "data": {
      "text/plain": [
       "{'currency': 'USD',\n",
       " 'symbol': 'AAPL',\n",
       " 'exchangeName': 'NMS',\n",
       " 'instrumentType': 'EQUITY',\n",
       " 'firstTradeDate': 345479400,\n",
       " 'regularMarketTime': 1693598401,\n",
       " 'gmtoffset': -14400,\n",
       " 'timezone': 'EDT',\n",
       " 'exchangeTimezoneName': 'America/New_York',\n",
       " 'regularMarketPrice': 189.46,\n",
       " 'chartPreviousClose': 178.61,\n",
       " 'previousClose': 187.87,\n",
       " 'scale': 3,\n",
       " 'priceHint': 2,\n",
       " 'currentTradingPeriod': {'pre': {'timezone': 'EDT',\n",
       "   'start': 1693555200,\n",
       "   'end': 1693575000,\n",
       "   'gmtoffset': -14400},\n",
       "  'regular': {'timezone': 'EDT',\n",
       "   'start': 1693575000,\n",
       "   'end': 1693598400,\n",
       "   'gmtoffset': -14400},\n",
       "  'post': {'timezone': 'EDT',\n",
       "   'start': 1693598400,\n",
       "   'end': 1693612800,\n",
       "   'gmtoffset': -14400}},\n",
       " 'tradingPeriods':                                           pre_start                   pre_end  \\\n",
       " Date                                                                            \n",
       " 2023-08-28 00:00:00-04:00 2023-08-25 04:00:00-04:00 2023-08-25 09:30:00-04:00   \n",
       " 2023-08-29 00:00:00-04:00 2023-08-28 04:00:00-04:00 2023-08-28 09:30:00-04:00   \n",
       " 2023-08-30 00:00:00-04:00 2023-08-29 04:00:00-04:00 2023-08-29 09:30:00-04:00   \n",
       " 2023-08-31 00:00:00-04:00 2023-08-30 04:00:00-04:00 2023-08-30 09:30:00-04:00   \n",
       " 2023-09-01 00:00:00-04:00 2023-08-31 04:00:00-04:00 2023-08-31 09:30:00-04:00   \n",
       " \n",
       "                                               start                       end  \\\n",
       " Date                                                                            \n",
       " 2023-08-28 00:00:00-04:00 2023-08-28 09:30:00-04:00 2023-08-28 16:00:00-04:00   \n",
       " 2023-08-29 00:00:00-04:00 2023-08-29 09:30:00-04:00 2023-08-29 16:00:00-04:00   \n",
       " 2023-08-30 00:00:00-04:00 2023-08-30 09:30:00-04:00 2023-08-30 16:00:00-04:00   \n",
       " 2023-08-31 00:00:00-04:00 2023-08-31 09:30:00-04:00 2023-08-31 16:00:00-04:00   \n",
       " 2023-09-01 00:00:00-04:00 2023-09-01 09:30:00-04:00 2023-09-01 16:00:00-04:00   \n",
       " \n",
       "                                          post_start                  post_end  \n",
       " Date                                                                           \n",
       " 2023-08-28 00:00:00-04:00 2023-08-25 16:00:00-04:00 2023-08-25 20:00:00-04:00  \n",
       " 2023-08-29 00:00:00-04:00 2023-08-28 16:00:00-04:00 2023-08-28 20:00:00-04:00  \n",
       " 2023-08-30 00:00:00-04:00 2023-08-29 16:00:00-04:00 2023-08-29 20:00:00-04:00  \n",
       " 2023-08-31 00:00:00-04:00 2023-08-30 16:00:00-04:00 2023-08-30 20:00:00-04:00  \n",
       " 2023-09-01 00:00:00-04:00 2023-08-31 16:00:00-04:00 2023-08-31 20:00:00-04:00  ,\n",
       " 'dataGranularity': '1h',\n",
       " 'range': '1wk',\n",
       " 'validRanges': ['1d',\n",
       "  '5d',\n",
       "  '1mo',\n",
       "  '3mo',\n",
       "  '6mo',\n",
       "  '1y',\n",
       "  '2y',\n",
       "  '5y',\n",
       "  '10y',\n",
       "  'ytd',\n",
       "  'max']}"
      ]
     },
     "execution_count": 14,
     "metadata": {},
     "output_type": "execute_result"
    }
   ],
   "source": [
    "ticker = yf.Ticker(\"AAPL\")  # Apple\n",
    "\n",
    "ticker.get_history_metadata()"
   ]
  },
  {
   "cell_type": "code",
   "execution_count": null,
   "metadata": {},
   "outputs": [],
   "source": []
  }
 ],
 "metadata": {
  "kernelspec": {
   "display_name": "quant",
   "language": "python",
   "name": "python3"
  },
  "language_info": {
   "codemirror_mode": {
    "name": "ipython",
    "version": 3
   },
   "file_extension": ".py",
   "mimetype": "text/x-python",
   "name": "python",
   "nbconvert_exporter": "python",
   "pygments_lexer": "ipython3",
   "version": "3.10.12"
  },
  "orig_nbformat": 4
 },
 "nbformat": 4,
 "nbformat_minor": 2
}
