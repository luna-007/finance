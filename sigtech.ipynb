{
 "cells": [
  {
   "cell_type": "code",
   "execution_count": 4,
   "metadata": {},
   "outputs": [],
   "source": [
    "import os\n",
    "import sigtech.api as sig\n",
    "import pandas as pd\n",
    "import matplotlib.pyplot as plt\n",
    "import seaborn as sb\n",
    "from datetime import date\n",
    "%matplotlib inline"
   ]
  },
  {
   "cell_type": "code",
   "execution_count": 2,
   "metadata": {},
   "outputs": [],
   "source": [
    "os.environ['SIGTECH_API_KEY'] = 'sig_vk1Z21io3V6gMfq4DGUsGd8oXcq6rI2jG0bd'\n",
    "from statsmodels.tsa.stattools import coint\n",
    "\n",
    "plt.rcParams['figure.figsize'] = [16, 10]"
   ]
  },
  {
   "cell_type": "code",
   "execution_count": 3,
   "metadata": {},
   "outputs": [
    {
     "data": {
      "text/plain": [
       "<sigtech.api.framework.environment.Environment at 0x7f4f2adb9910>"
      ]
     },
     "execution_count": 3,
     "metadata": {},
     "output_type": "execute_result"
    }
   ],
   "source": [
    "sig.init()"
   ]
  },
  {
   "cell_type": "code",
   "execution_count": 5,
   "metadata": {},
   "outputs": [],
   "source": [
    "rr = sig.RollingFutureStrategy(currency='USD', start_date=date(2010, 1, 10), contract_code='RR', contract_sector='COMDTY', monthly_roll_days='5:9', rolling_rule='f_0')\n",
    "\n",
    "c = sig.RollingFutureStrategy(currency='USD', start_date=date(2010, 1, 10), contract_code='C', contract_sector='COMDTY', monthly_roll_days='5:9', rolling_rule='f_0')"
   ]
  },
  {
   "cell_type": "code",
   "execution_count": 6,
   "metadata": {},
   "outputs": [],
   "source": [
    "def test_cointegeration(asset1, asset2):\n",
    "\n",
    "    asset1_df = asset1.history().dropna()\n",
    "    asset2_df = asset2.history().dropna()\n",
    "\n",
    "    asset1_df = asset1_df.reindex(asset2_df.index).fillna(method='ffill')\n",
    "    asset2_df = asset2_df.reindex(asset1_df.index).fillna(method='ffill')\n",
    "    \n",
    "    # Run cointegration test\n",
    "    score, pvalue, _ = coint(asset1_df, asset2_df)\n",
    "    print('--------')\n",
    "    print(f'p-value of cointegration test between {asset1.name} and {asset2.name}: {pvalue}')\n",
    "    \n",
    "    # For this example we define the threshold of 0.05 for the p-value\n",
    "    if pvalue < 0.05:\n",
    "        print('Assets are cointegrated, proceed with pairs trading strategy.')\n",
    "        print('--------')\n",
    "\n",
    "    else:\n",
    "        print('Assets are not cointegrated, do not proceed with pairs trading.')\n",
    "        print('--------')"
   ]
  },
  {
   "cell_type": "code",
   "execution_count": 7,
   "metadata": {},
   "outputs": [
    {
     "name": "stdout",
     "output_type": "stream",
     "text": [
      "--------\n",
      "p-value of cointegration test between USD RR COMDTY LONG F_0 1C5AEA85 RFS STRATEGY and USD C  COMDTY LONG F_0 690CECA2 RFS STRATEGY: 0.0043066869894484335\n",
      "Assets are cointegrated, proceed with pairs trading strategy.\n",
      "--------\n"
     ]
    }
   ],
   "source": [
    "test_cointegeration(rr, c)"
   ]
  },
  {
   "cell_type": "code",
   "execution_count": null,
   "metadata": {},
   "outputs": [],
   "source": []
  }
 ],
 "metadata": {
  "kernelspec": {
   "display_name": "quant",
   "language": "python",
   "name": "python3"
  },
  "language_info": {
   "codemirror_mode": {
    "name": "ipython",
    "version": 3
   },
   "file_extension": ".py",
   "mimetype": "text/x-python",
   "name": "python",
   "nbconvert_exporter": "python",
   "pygments_lexer": "ipython3",
   "version": "3.11.4"
  },
  "orig_nbformat": 4
 },
 "nbformat": 4,
 "nbformat_minor": 2
}
