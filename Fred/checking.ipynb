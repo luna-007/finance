{
 "cells": [
  {
   "cell_type": "code",
   "execution_count": 10,
   "metadata": {},
   "outputs": [
    {
     "data": {
      "text/html": [
       "<div>\n",
       "<style scoped>\n",
       "    .dataframe tbody tr th:only-of-type {\n",
       "        vertical-align: middle;\n",
       "    }\n",
       "\n",
       "    .dataframe tbody tr th {\n",
       "        vertical-align: top;\n",
       "    }\n",
       "\n",
       "    .dataframe thead th {\n",
       "        text-align: right;\n",
       "    }\n",
       "</style>\n",
       "<table border=\"1\" class=\"dataframe\">\n",
       "  <thead>\n",
       "    <tr style=\"text-align: right;\">\n",
       "      <th></th>\n",
       "      <th>realtime_start</th>\n",
       "      <th>releases</th>\n",
       "    </tr>\n",
       "  </thead>\n",
       "  <tbody>\n",
       "    <tr>\n",
       "      <th>0</th>\n",
       "      <td>2023-08-31</td>\n",
       "      <td>{'id': 9, 'realtime_start': '2023-08-31', 'rea...</td>\n",
       "    </tr>\n",
       "    <tr>\n",
       "      <th>1</th>\n",
       "      <td>2023-08-31</td>\n",
       "      <td>{'id': 10, 'realtime_start': '2023-08-31', 're...</td>\n",
       "    </tr>\n",
       "    <tr>\n",
       "      <th>2</th>\n",
       "      <td>2023-08-31</td>\n",
       "      <td>{'id': 11, 'realtime_start': '2023-08-31', 're...</td>\n",
       "    </tr>\n",
       "    <tr>\n",
       "      <th>3</th>\n",
       "      <td>2023-08-31</td>\n",
       "      <td>{'id': 13, 'realtime_start': '2023-08-31', 're...</td>\n",
       "    </tr>\n",
       "    <tr>\n",
       "      <th>4</th>\n",
       "      <td>2023-08-31</td>\n",
       "      <td>{'id': 14, 'realtime_start': '2023-08-31', 're...</td>\n",
       "    </tr>\n",
       "    <tr>\n",
       "      <th>...</th>\n",
       "      <td>...</td>\n",
       "      <td>...</td>\n",
       "    </tr>\n",
       "    <tr>\n",
       "      <th>309</th>\n",
       "      <td>2023-08-31</td>\n",
       "      <td>{'id': 571, 'realtime_start': '2023-08-31', 'r...</td>\n",
       "    </tr>\n",
       "    <tr>\n",
       "      <th>310</th>\n",
       "      <td>2023-08-31</td>\n",
       "      <td>{'id': 605, 'realtime_start': '2023-08-31', 'r...</td>\n",
       "    </tr>\n",
       "    <tr>\n",
       "      <th>311</th>\n",
       "      <td>2023-08-31</td>\n",
       "      <td>{'id': 637, 'realtime_start': '2023-08-31', 'r...</td>\n",
       "    </tr>\n",
       "    <tr>\n",
       "      <th>312</th>\n",
       "      <td>2023-08-31</td>\n",
       "      <td>{'id': 670, 'realtime_start': '2023-08-31', 'r...</td>\n",
       "    </tr>\n",
       "    <tr>\n",
       "      <th>313</th>\n",
       "      <td>2023-08-31</td>\n",
       "      <td>{'id': 705, 'realtime_start': '2023-08-31', 'r...</td>\n",
       "    </tr>\n",
       "  </tbody>\n",
       "</table>\n",
       "<p>314 rows × 2 columns</p>\n",
       "</div>"
      ],
      "text/plain": [
       "    realtime_start                                           releases\n",
       "0       2023-08-31  {'id': 9, 'realtime_start': '2023-08-31', 'rea...\n",
       "1       2023-08-31  {'id': 10, 'realtime_start': '2023-08-31', 're...\n",
       "2       2023-08-31  {'id': 11, 'realtime_start': '2023-08-31', 're...\n",
       "3       2023-08-31  {'id': 13, 'realtime_start': '2023-08-31', 're...\n",
       "4       2023-08-31  {'id': 14, 'realtime_start': '2023-08-31', 're...\n",
       "..             ...                                                ...\n",
       "309     2023-08-31  {'id': 571, 'realtime_start': '2023-08-31', 'r...\n",
       "310     2023-08-31  {'id': 605, 'realtime_start': '2023-08-31', 'r...\n",
       "311     2023-08-31  {'id': 637, 'realtime_start': '2023-08-31', 'r...\n",
       "312     2023-08-31  {'id': 670, 'realtime_start': '2023-08-31', 'r...\n",
       "313     2023-08-31  {'id': 705, 'realtime_start': '2023-08-31', 'r...\n",
       "\n",
       "[314 rows x 2 columns]"
      ]
     },
     "execution_count": 10,
     "metadata": {},
     "output_type": "execute_result"
    }
   ],
   "source": [
    "import requests\n",
    "import json\n",
    "import pandas as pd\n",
    "\n",
    "url = 'https://api.stlouisfed.org/fred/releases?api_key=0a6bc63dd44900e2b1f0cb65ce35445a&file_type=json'\n",
    "\n",
    "response = requests.get(url)\n",
    "\n",
    "data = json.loads(response.text)\n",
    "frame = pd.DataFrame(data)\n",
    "frame.drop(['order_by', 'sort_order','count', 'offset', 'limit', 'realtime_end'], axis=1 ,inplace=True)\n",
    "frame"
   ]
  },
  {
   "cell_type": "code",
   "execution_count": 16,
   "metadata": {},
   "outputs": [
    {
     "data": {
      "text/plain": [
       "'The U.S. Census Bureau conducts the Advance Monthly Retail Trade and Food Services Survey to provide an early estimate of monthly sales by kind of business for retail and food service firms located in the United States. Each month, questionnaires are mailed to a probability sample of approximately 4,700 employer firms selected from the larger Monthly Retail Trade Survey. Advance sales estimates are computed using a link relative estimator. For each detailed industry, we compute a ratio of current-to previous month weighted sales using data from units for which we have obtained usable responses for both the current and previous month. For each detailed industry, the advance total sales estimates for the current month is computed by multiplying this ratio by the preliminary sales estimate for the previous month (derived from the larger MRTS) at the appropriate industry level. Total estimates for broader industries are computed as the sum of the detailed industry estimates. The link relative estimate is used because imputation is not performed for most nonrespondents in MARTS. For a limited number of nonresponding companies that have influential effects on the estimates, sales may be estimated based on historical performance of that company. The monthly estimates are benchmarked to the annual survey estimates from the Annual Retail Trade Survey once available. The estimates are adjusted for seasonal variation and holiday and trading day differences. Additional information on MARTS and MRTS can be found on the Census Bureau website at: www.census.gov/retail.\\r\\nDescription of the survey as provided by the Census, https://census.gov/retail/marts/www/marts_current.pdf'"
      ]
     },
     "execution_count": 16,
     "metadata": {},
     "output_type": "execute_result"
    }
   ],
   "source": [
    "new = frame['releases']\n",
    "new[0]['notes']"
   ]
  },
  {
   "cell_type": "code",
   "execution_count": null,
   "metadata": {},
   "outputs": [],
   "source": []
  }
 ],
 "metadata": {
  "kernelspec": {
   "display_name": "quant",
   "language": "python",
   "name": "python3"
  },
  "language_info": {
   "codemirror_mode": {
    "name": "ipython",
    "version": 3
   },
   "file_extension": ".py",
   "mimetype": "text/x-python",
   "name": "python",
   "nbconvert_exporter": "python",
   "pygments_lexer": "ipython3",
   "version": "3.11.4"
  },
  "orig_nbformat": 4
 },
 "nbformat": 4,
 "nbformat_minor": 2
}
